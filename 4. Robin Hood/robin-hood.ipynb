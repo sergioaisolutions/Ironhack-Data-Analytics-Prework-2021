{
 "cells": [
  {
   "cell_type": "markdown",
   "metadata": {},
   "source": [
    "<img src=\"https://bit.ly/2VnXWr2\" width=\"100\" align=\"left\"/>"
   ]
  },
  {
   "cell_type": "markdown",
   "metadata": {},
   "source": [
    "# Robin Hood\n",
    "Robin Hood has entered a competition to win the archery contest in Sherwood. With his bow and arrows, he needs to shoot on a target and try to hit as close as possible to the center.\n",
    "\n",
    "![](images/arrows.jpg)\n",
    "\n",
    "## Context\n",
    "In this challenge, the landing position of arrows shot by archers in the competition will be represented using 2-dimensional coordinates. \n",
    "\n",
    "In the 2-dimensional space, a point can be defined by a pair of values that correspond to the horizontal coordinate (x) and the vertical coordinate (y). For example, in our case, an arrow that hits the center of the archery target will land in position (0, 0) on the coordinate axes. \n",
    "\n",
    "The space can be divided into 4 zones (quadrants): Q1, Q2, Q3, Q4. If a point is in Q1, both its x coordinate and y coordinate are positive. Any point with a null x or y coordinate is considered to not belong to any quadrant. \n",
    "\n",
    "If you want to know more about the cartesian coordinate system, you can check this [link](https://en.wikipedia.org/wiki/Cartesian_coordinate_system). \n",
    "\n",
    "## Tools\n",
    "You don't necessarily need to use all the tools. Maybe you opt to use some of them or completely different ones, they are given to help you shape the exercise. Programming exercises can be solved in many different ways.\n",
    "* Data structures: **lists, sets, tuples**\n",
    "* Conditional statements: **if-elif-else**\n",
    "* Loop: **while/for**\n",
    "* Minimum (optional sorting)\n",
    "\n",
    "## Tasks\n",
    "Robin Hood has hit the following points:"
   ]
  },
  {
   "cell_type": "code",
   "execution_count": null,
   "metadata": {},
   "outputs": [],
   "source": [
    "points = [(4, 5), (-0, 2), (4, 7), (1, -3), (3, -2), (4, 5), (3, 2), (5, 7), (-5, 7), (2, 2), (-4, 5), (0, -2),\n",
    "          (-4, 7), (-1, 3), (-3, 2), (-4, -5), (-3, 2), (5, 7), (5, 7), (2, 2), (9, 9), (-8, -9)]"
   ]
  },
  {
   "cell_type": "markdown",
   "metadata": {},
   "source": [
    "#### 1. Robin Hood is famous for hitting an arrow with another arrow. Find the coordinates of the points where an arrow hits another arrow."
   ]
  },
  {
   "cell_type": "code",
   "execution_count": null,
   "metadata": {},
   "outputs": [],
   "source": [
    "points_2 = list()\n",
    "repeated_points = list()\n",
    "\n",
    "for point in points:\n",
    "    if point in points_2:\n",
    "        if point not in repeated_points:\n",
    "            repeated_points.append(point)\n",
    "    points_2.append(point)\n",
    "\n",
    "print(f'POINTS WHERE AN ARROW HITS OTHER ARROW')\n",
    "print('--------------------------------------\\n')\n",
    "\n",
    "for point in repeated_points:\n",
    "    print(f'- {point}')"
   ]
  },
  {
   "cell_type": "markdown",
   "metadata": {},
   "source": [
    "#### 2. Calculate how many arrows have fallen in each quadrant. \n",
    "**Note**: the arrows that fall in the axis (x=0 or y=0) don't belong to any quadrant."
   ]
  },
  {
   "cell_type": "code",
   "execution_count": null,
   "metadata": {},
   "outputs": [],
   "source": [
    "q1, q2, q3, q4, no_q = 0, 0, 0, 0, 0\n",
    "\n",
    "for point in points:\n",
    "\n",
    "    if point[0] == 0 or point[1] == 0:\n",
    "        no_q += 1\n",
    "    \n",
    "    elif point[0] < 0 and point[1] > 0:\n",
    "        q1 += 1\n",
    "    \n",
    "    elif point[0] > 0 and point[1] > 0:\n",
    "        q2 += 1\n",
    "\n",
    "    elif point[0] < 0 and point[1] < 0:\n",
    "        q3 += 1\n",
    "\n",
    "    else:\n",
    "        q4 += 1\n",
    "\n",
    "print(f'ARROWS PER QUADRANT')\n",
    "print('-------------------\\n')\n",
    "\n",
    "print(f'Q1: {q1}')\n",
    "print(f'Q2: {q2}')\n",
    "print(f'Q3: {q3}')\n",
    "print(f'Q4: {q4}')\n",
    "print(f'NO QUADRANT: {no_q}')"
   ]
  },
  {
   "cell_type": "markdown",
   "metadata": {},
   "source": [
    "#### 3. Find the point closest to the center. Calculate its distance to the center. \n",
    "Take into account that there might be more than one point at the minimum distance to the center.\n",
    "\n",
    "**Hint**: Use the Euclidean distance. You can find more information about it [here](https://en.wikipedia.org/wiki/Euclidean_distance).  \n",
    "**Hint**: Defining a function that calculates the distance to the center can help."
   ]
  },
  {
   "cell_type": "code",
   "execution_count": null,
   "metadata": {},
   "outputs": [],
   "source": [
    "from math import sqrt\n",
    "\n",
    "def euclidean_distance(points, reference):\n",
    "\n",
    "    distances = dict()\n",
    "\n",
    "    for point in points:\n",
    "        distance = sqrt(((point[0] - reference[0]) ** 2) + ((point[1] - reference[1]) ** 2))\n",
    "        distances[point] = distance\n",
    "\n",
    "    return distances\n",
    "\n",
    "distances_to_center = euclidean_distance(points, (0, 0))\n",
    "\n",
    "closest_point_to_center = min(distances_to_center, key = distances_to_center.get)\n",
    "lowest_distance_value = distances_to_center[closest_point_to_center]\n",
    "\n",
    "print(f'Closest arrow to center: {closest_point_to_center}. Distance: {lowest_distance_value}.')"
   ]
  },
  {
   "cell_type": "markdown",
   "metadata": {},
   "source": [
    "#### 4. If the archery target has a radius of 9, calculate the number of arrows that won't hit the target. \n",
    "**Hint**: Use the function created in step 3. "
   ]
  },
  {
   "cell_type": "code",
   "execution_count": null,
   "metadata": {},
   "outputs": [],
   "source": [
    "def euclidean_distance_above_9(points, reference):\n",
    "\n",
    "    distances = dict()\n",
    "\n",
    "    for point in points:\n",
    "        distance = sqrt(((point[0] - reference[0]) ** 2) + ((point[1] - reference[1]) ** 2))\n",
    "        if distance > 9:\n",
    "            distances[point] = distance\n",
    "\n",
    "    return distances\n",
    "\n",
    "distances_to_center_over_9 = euclidean_distance_above_9(points, (0, 0))\n",
    "\n",
    "print(f'ARROWS THAT WILL NOT HIT THE TARGET')\n",
    "print(f'-----------------------------------\\n')\n",
    "\n",
    "for point, distance in distances_to_center_over_9.items():\n",
    "\n",
    "    print(f'- Point: {point} Distance: {distance}. ')"
   ]
  }
 ],
 "metadata": {
  "interpreter": {
   "hash": "31f2aee4e71d21fbe5cf8b01ff0e069b9275f58929596ceb00d14d90e3e16cd6"
  },
  "kernelspec": {
   "display_name": "Python 3.8.2 64-bit",
   "name": "python3"
  },
  "language_info": {
   "codemirror_mode": {
    "name": "ipython",
    "version": 3
   },
   "file_extension": ".py",
   "mimetype": "text/x-python",
   "name": "python",
   "nbconvert_exporter": "python",
   "pygments_lexer": "ipython3",
   "version": "3.8.2"
  }
 },
 "nbformat": 4,
 "nbformat_minor": 2
}