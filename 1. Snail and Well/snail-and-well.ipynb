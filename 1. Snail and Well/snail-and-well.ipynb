{
 "cells": [
  {
   "cell_type": "markdown",
   "metadata": {},
   "source": [
    "<img src=\"https://bit.ly/2VnXWr2\" width=\"100\" align=\"left\">"
   ]
  },
  {
   "cell_type": "markdown",
   "metadata": {},
   "source": [
    "# The Snail and the Well\n",
    "\n",
    "A snail falls at the bottom of a 125 cm well. Each day the snail rises 30 cm. But at night, while sleeping, slides 20 cm because the walls are wet. How many days does it take for the snail to escape the well?\n",
    "\n",
    "**Hint**: The snail gets out of the well when it surpasses the 125cm of height.\n",
    "\n",
    "## Tools\n",
    "\n",
    "1. Loop: **while**\n",
    "2. Conditional statements: **if-else**\n",
    "3. Function: **print()**\n",
    "\n",
    "## Tasks\n",
    "\n",
    "#### 1. Assign the challenge data to variables with representative names: `well_height`, `daily_distance`, `nightly_distance` and `snail_position`."
   ]
  },
  {
   "cell_type": "code",
   "execution_count": null,
   "metadata": {},
   "outputs": [],
   "source": [
    "well_height = 125\n",
    "daily_distance = 30\n",
    "nightly_distance = 20\n",
    "snail_position = 0"
   ]
  },
  {
   "cell_type": "markdown",
   "metadata": {},
   "source": [
    "#### 2. Create a variable `days` to keep count of the days that pass until the snail escapes the well. "
   ]
  },
  {
   "cell_type": "code",
   "execution_count": null,
   "metadata": {},
   "outputs": [],
   "source": [
    "elapsed_days = 0"
   ]
  },
  {
   "cell_type": "markdown",
   "metadata": {},
   "source": [
    "#### 3. Find the solution to the challenge using the variables defined above. "
   ]
  },
  {
   "cell_type": "code",
   "execution_count": null,
   "metadata": {},
   "outputs": [],
   "source": [
    "def snail_well(well_height, daily_distance, nightly_distance, snail_position, elapsed_days):\n",
    "\n",
    "    while snail_position < well_height:\n",
    "        snail_position += daily_distance\n",
    "        snail_position -= nightly_distance\n",
    "        elapsed_days += 1\n",
    "    \n",
    "    return elapsed_days"
   ]
  },
  {
   "cell_type": "markdown",
   "metadata": {},
   "source": [
    "#### 4. Print the solution."
   ]
  },
  {
   "cell_type": "code",
   "execution_count": null,
   "metadata": {},
   "outputs": [],
   "source": [
    "snail_well_solution = snail_well(well_height, daily_distance, nightly_distance, snail_position, elapsed_days)\n",
    "\n",
    "print(f'It took {snail_well_solution} days for the snail to climb the wall')"
   ]
  },
  {
   "cell_type": "markdown",
   "metadata": {},
   "source": [
    "## Bonus\n",
    "The distance traveled by the snail each day is now defined by a list.\n",
    "```\n",
    "advance_cm = [30, 21, 33, 77, 44, 45, 23, 45, 12, 34, 55]\n",
    "```\n",
    "On the first day, the snail rises 30cm but during the night it slides 20cm. On the second day, the snail rises 21cm but during the night it slides 20cm, and so on. \n",
    "\n",
    "#### 1. How many days does it take for the snail to escape the well?\n",
    "Follow the same guidelines as in the previous challenge.\n",
    "\n",
    "**Hint**: Remember that the snail gets out of the well when it surpasses the 125cm of height."
   ]
  },
  {
   "cell_type": "code",
   "execution_count": null,
   "metadata": {},
   "outputs": [],
   "source": [
    "advance_cm = [30, 21, 33, 77, 44, 45, 23, 45, 12, 34, 55]\n",
    "\n",
    "def snail_well_2(well_height, daily_distance, nightly_distance, snail_position, elapsed_days):\n",
    "\n",
    "    for distance in daily_distance:\n",
    "        snail_position += distance\n",
    "        snail_position -= nightly_distance\n",
    "        elapsed_days += 1\n",
    "\n",
    "        if snail_position >= well_height:\n",
    "            return elapsed_days\n",
    "    \n",
    "    return False\n",
    "\n",
    "snail_well_solution_2 = snail_well_2(well_height, advance_cm, nightly_distance, snail_position, elapsed_days)\n",
    "\n",
    "if snail_well_solution_2 == False:\n",
    "    print('The snail has not been able to exceed the height of the wall for the distances traveled provided.')\n",
    "\n",
    "else:\n",
    "    print(f'It took {snail_well_solution_2} days for the snail to climb the wall.')"
   ]
  },
  {
   "cell_type": "markdown",
   "metadata": {},
   "source": [
    "#### 2. What is its maximum displacement in one day? And its minimum? Calculate the displacement using only the travel distance of the days used to get out of the well. \n",
    "**Hint**: Remember that displacement means the total distance risen taking into account that the snail slides at night.  "
   ]
  },
  {
   "cell_type": "code",
   "execution_count": null,
   "metadata": {},
   "outputs": [],
   "source": [
    "def distance_max_min(daily_distance, nightly_distance, snail_position):\n",
    "\n",
    "    distances = list()\n",
    "\n",
    "    for distance in daily_distance:\n",
    "        snail_position += distance\n",
    "        snail_position -= nightly_distance\n",
    "        distances.append(snail_position)\n",
    "        snail_position = 0\n",
    "\n",
    "    return max(distances), min(distances)\n",
    "\n",
    "max_distance, min_distance = distance_max_min(advance_cm, nightly_distance, snail_position)\n",
    "\n",
    "print(f'The maximum distance traveled per day was {max_distance} cm, and the minimum distance traveled was {min_distance} cm.')"
   ]
  },
  {
   "cell_type": "markdown",
   "metadata": {},
   "source": [
    "#### 3. What is its average progress? Take into account the snail slides at night."
   ]
  },
  {
   "cell_type": "code",
   "execution_count": null,
   "metadata": {},
   "outputs": [],
   "source": [
    "def distance_avg(daily_distance, nightly_distance, snail_position):\n",
    "\n",
    "    distances = list()\n",
    "\n",
    "    for distance in daily_distance:\n",
    "        snail_position += distance\n",
    "        snail_position -= nightly_distance\n",
    "        distances.append(snail_position)\n",
    "        snail_position = 0\n",
    "\n",
    "    return sum(distances) / len(distances)\n",
    "\n",
    "avg_distance = distance_avg(advance_cm, nightly_distance, snail_position)\n",
    "\n",
    "print(f'The average distance traveled per day was {round(avg_distance, 3)} cm.')"
   ]
  },
  {
   "cell_type": "markdown",
   "metadata": {},
   "source": [
    "#### 4. What is the standard deviation of its displacement? Take into account the snail slides at night."
   ]
  },
  {
   "cell_type": "code",
   "execution_count": null,
   "metadata": {},
   "outputs": [],
   "source": [
    "from statistics import stdev\n",
    "\n",
    "def distance_std(daily_distance, nightly_distance, snail_position):\n",
    "\n",
    "    distances = list()\n",
    "\n",
    "    for distance in daily_distance:\n",
    "        snail_position += distance\n",
    "        snail_position -= nightly_distance\n",
    "        distances.append(snail_position)\n",
    "        snail_position = 0\n",
    "\n",
    "    return stdev(distances)\n",
    "\n",
    "std_distance = distance_std(advance_cm, nightly_distance, snail_position)\n",
    "\n",
    "print(f'The standard deviation of the distance traveled per day was {round(std_distance, 3)} cm.')"
   ]
  }
 ],
 "metadata": {
  "interpreter": {
   "hash": "31f2aee4e71d21fbe5cf8b01ff0e069b9275f58929596ceb00d14d90e3e16cd6"
  },
  "kernelspec": {
   "display_name": "Python 3.8.2 64-bit",
   "name": "python3"
  },
  "language_info": {
   "name": "python",
   "version": ""
  }
 },
 "nbformat": 4,
 "nbformat_minor": 2
}