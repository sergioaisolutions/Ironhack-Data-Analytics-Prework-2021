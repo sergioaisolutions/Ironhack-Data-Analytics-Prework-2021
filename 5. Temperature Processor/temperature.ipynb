{
 "cells": [
  {
   "cell_type": "markdown",
   "metadata": {},
   "source": [
    "<img src=\"https://bit.ly/2VnXWr2\" width=\"100\" align=\"left\">"
   ]
  },
  {
   "cell_type": "markdown",
   "metadata": {},
   "source": [
    "# Temperature Sensor\n",
    "\n",
    "There is a temperature sensor in the processor of your company's server. The company wants to analyze the data provided by the sensor to decide if they should change the cooling system for a better one. As changing the cooling system is expensive and you are an excellent data analyst, you can't make a decision without basis.\n",
    "\n",
    "## Tools\n",
    "You don't necessarily need to use all the tools. Maybe you opt to use some of them or completely different ones, they are given to help you shape the exercise. Programming exercises can be solved in many different ways.\n",
    "1. Data structures: **lists**\n",
    "2. Loops: **list comprehension**\n",
    "3. Functions: **min, max, print, len**\n",
    "4. Conditional statements: **if-elif-else**\n",
    "\n",
    "## Tasks\n",
    "The temperatures measured throughout the 24 hours of a day are:"
   ]
  },
  {
   "cell_type": "code",
   "execution_count": null,
   "metadata": {},
   "outputs": [],
   "source": [
    "temperatures_C = [33, 66, 65, 0, 59, 60, 62, 64, 70, 76, 80, 81, 80, 83, 90, 79, 61, 53, 50, 49, 53, 48, 45, 39]"
   ]
  },
  {
   "cell_type": "markdown",
   "metadata": {},
   "source": [
    "The first element of the list is the temperature at 12am, the second element is the temperature at 1am, and so on. \n",
    "\n",
    "The company has decided that if one of the following events occurs, then the cooling system needs to be replaced for a new one to avoid damaging the processor.\n",
    "* More than 4 temperatures are greater than or equal to 70ºC.\n",
    "* Any temperature is above 80ºC.\n",
    "* The average temperature exceeds 65ºC.\n",
    "\n",
    "Follow the steps so that you can make the decision.\n",
    "\n",
    "#### 1. Find the minimum temperature of the day and store it in a variable."
   ]
  },
  {
   "cell_type": "code",
   "execution_count": null,
   "metadata": {},
   "outputs": [],
   "source": [
    "min_temperature = min(temperatures_C)\n",
    "print(f'Lowest temperature: {min_temperature}')"
   ]
  },
  {
   "cell_type": "markdown",
   "metadata": {},
   "source": [
    "#### 2. Find the maximum temperature of the day and store it in a variable."
   ]
  },
  {
   "cell_type": "code",
   "execution_count": null,
   "metadata": {},
   "outputs": [],
   "source": [
    "max_temperature = max(temperatures_C)\n",
    "print(f'Highest temperature: {max_temperature}')"
   ]
  },
  {
   "cell_type": "markdown",
   "metadata": {},
   "source": [
    "#### 3. Create a list with the temperatures that are greater than or equal to 70ºC. Store it in a variable."
   ]
  },
  {
   "cell_type": "code",
   "execution_count": null,
   "metadata": {},
   "outputs": [],
   "source": [
    "tempratures_over_70 = list()\n",
    "\n",
    "temperature_over_80_check = False\n",
    "\n",
    "for temperature in temperatures_C:\n",
    "    if temperature >= 70:\n",
    "        tempratures_over_70.append(temperature)\n",
    "    if temperature > 80:\n",
    "        temperature_over_80_check = True\n",
    "\n",
    "temperatures_over_70_check = len(tempratures_over_70) > 4\n",
    "\n",
    "print(f'Temperatures over 70 Cº {tempratures_over_70}')"
   ]
  },
  {
   "cell_type": "markdown",
   "metadata": {},
   "source": [
    "#### 4. Find the average temperature of the day and store it in a variable."
   ]
  },
  {
   "cell_type": "code",
   "execution_count": null,
   "metadata": {},
   "outputs": [],
   "source": [
    "avg_temperature = sum(temperatures_C) / len(temperatures_C)\n",
    "avg_temperature_check = avg_temperature > 65\n",
    "print(f'Average temperature: {avg_temperature}')"
   ]
  },
  {
   "cell_type": "markdown",
   "metadata": {},
   "source": [
    "#### 5. Imagine that there was a sensor failure at 3am and the data for that specific hour was not recorded. How would you estimate the missing value? Replace the current value of the list at 3am for an estimation. "
   ]
  },
  {
   "cell_type": "code",
   "execution_count": null,
   "metadata": {},
   "outputs": [],
   "source": [
    "am_3 = 3\n",
    "\n",
    "temperatures_C[am_3] = int(avg_temperature)\n",
    "print(f'Temperatures with 3 AM value imputed with mean: {temperatures_C}')"
   ]
  },
  {
   "cell_type": "markdown",
   "metadata": {},
   "source": [
    "#### 6. Bonus: the maintenance staff is from the United States and does not understand the international metric system. Help them by converting the temperatures from Celsius to Fahrenheit.\n",
    "To know more about temperature conversion check this [link](https://en.wikipedia.org/wiki/Conversion_of_units_of_temperature).\n",
    "\n",
    "**Formula**: \n",
    "\n",
    "$F = 1.8 * C + 32$"
   ]
  },
  {
   "cell_type": "code",
   "execution_count": null,
   "metadata": {},
   "outputs": [],
   "source": [
    "temperatures_F = list()\n",
    "\n",
    "for temperature in temperatures_C:\n",
    "\n",
    "    temperature_F = int(((1.8 * temperature) + 32))\n",
    "    temperatures_F.append(temperature_F)\n",
    "\n",
    "print(f'Temperatures in Fahrenheit: {temperatures_F}')"
   ]
  },
  {
   "cell_type": "markdown",
   "metadata": {},
   "source": [
    "#### 7. Make a decision!\n",
    "Now it's time to make a decision taking into account what you have seen until now. \n",
    "\n",
    "Remember that if one of the following events occurs, then the cooling system needs to be replaced for a new one to avoid damaging the processor.\n",
    "* More than 4 temperatures are greater than or equal to 70ºC.\n",
    "* Any temperature is above 80ºC.\n",
    "* The average temperature exceeds 65ºC.\n",
    "\n",
    "#### To make your decision, check if any of the three conditions above is met. You might need to use some of the variables you created in steps 1 to 6. Print a message to show if the cooling system needs to be changed or not."
   ]
  },
  {
   "cell_type": "code",
   "execution_count": null,
   "metadata": {},
   "outputs": [],
   "source": [
    "if temperatures_over_70_check or avg_temperature_check or temperature_over_80_check:\n",
    "    print('WARNING! Change the processor.')\n",
    "\n",
    "else:\n",
    "    print('The processor is good.')"
   ]
  },
  {
   "cell_type": "markdown",
   "metadata": {},
   "source": [
    "## Bonus\n",
    "\n",
    "The company has decided that the decision you made is not valid. They want you to analyze the data again but this time, the conditions that need to be met in order to change the cooling system are different.\n",
    "\n",
    "This time, if one of the following events occurs, then the cooling system needs to be replaced:\n",
    "* The temperature is greater than 70ºC during more than 4 consecutive hours.\n",
    "* Any temperature is above 80ºC.\n",
    "* The average temperature exceeds 65ºC.\n",
    "\n",
    "Follow the steps so that you can make the decision.\n",
    "\n",
    "#### 1. Create a list with the hours where the temperature is greater than 70ºC. Store it in a variable."
   ]
  },
  {
   "cell_type": "code",
   "execution_count": null,
   "metadata": {},
   "outputs": [],
   "source": [
    "hour = 0\n",
    "hours_over_70 = list()\n",
    "\n",
    "for temperature in temperatures_C:\n",
    "    if temperature > 70:\n",
    "        hours_over_70.append(hour)\n",
    "    hour += 1\n",
    "\n",
    "print(f'Hours where temperature is over 70 Cº: {hours_over_70}')"
   ]
  },
  {
   "cell_type": "markdown",
   "metadata": {},
   "source": [
    "#### 2. Check if the list you created in step 1 has more than 4 consecutive hours. "
   ]
  },
  {
   "cell_type": "code",
   "execution_count": null,
   "metadata": {},
   "outputs": [],
   "source": [
    "consecutive_hours_check = False\n",
    "hours_check = 0\n",
    "\n",
    "for hour in range(len(hours_over_70) - 1):\n",
    "\n",
    "    if hours_over_70[hour + 1] -  hours_over_70[hour] == 1:\n",
    "        hours_check += 1\n",
    "    else:\n",
    "        hours_check = 0\n",
    "\n",
    "    if hours_check > 4:\n",
    "        consecutive_hours_check = True"
   ]
  },
  {
   "cell_type": "markdown",
   "metadata": {},
   "source": [
    "#### 3. Make the decision!\n",
    "To make your decision, check if any of the three conditions is met. Print a message to show if the cooling system needs to be changed or not."
   ]
  },
  {
   "cell_type": "code",
   "execution_count": null,
   "metadata": {},
   "outputs": [],
   "source": [
    "if temperatures_over_70_check or avg_temperature_check or temperature_over_80_check or consecutive_hours_check:\n",
    "    print('WARNING! Change the processor.')\n",
    "\n",
    "else:\n",
    "    print('The processor is good.')"
   ]
  },
  {
   "cell_type": "markdown",
   "metadata": {},
   "source": [
    "#### 4. Find the average value of the temperature lists (ºC and ºF). What is the relation between both average values?"
   ]
  },
  {
   "cell_type": "code",
   "execution_count": null,
   "metadata": {},
   "outputs": [],
   "source": [
    "avg_temperature_C = sum(temperatures_C) / len(temperatures_C)\n",
    "avg_temperature_F = sum(temperatures_F) / len(temperatures_F)\n",
    "\n",
    "print(f'AVERAGE TEMPERATURE IN CELSIUS: {round(avg_temperature_C, 2)}')\n",
    "print(f'AVERAGE TEMPERATURE IN FAHRENHEIT: {round(avg_temperature_F, 2)}\\n')\n",
    "\n",
    "print(f'IF WE SUBTRACT THE CONSTANT VALUE 32 OF THE CONVERSION FORMULA FROM THE FAHRENHEIT VALUE, AND DIVIDE THE TWO VALUES, WE GET THE CONSTANT VALUE OF THE FORMULA -> 1.8')\n"
   ]
  },
  {
   "cell_type": "markdown",
   "metadata": {},
   "source": [
    "#### 5. Find the standard deviation of the temperature lists (ºC and ºF). What is the relation between both standard deviations?"
   ]
  },
  {
   "cell_type": "code",
   "execution_count": null,
   "metadata": {},
   "outputs": [],
   "source": [
    "from statistics import stdev\n",
    "\n",
    "print(f'STANDARD DEVIATION OF THE DAILY TEMPERATURES IN CELSIUS: {round(stdev(temperatures_C), 2)}')\n",
    "print(f'STANDARD DEVIATION OF THE DAILY TEMPERATURES IN FAHRENHEIT: {round(stdev(temperatures_F), 2)}\\n')\n",
    "\n",
    "print(f'THE DIVISION BETWEEN THE TWO VALUES IS EQUAL TO THE CONSTANT VALUE OF THE CELSIUS TO FAHRENHEIT FORMULA -> 1.8')"
   ]
  }
 ],
 "metadata": {
  "interpreter": {
   "hash": "31f2aee4e71d21fbe5cf8b01ff0e069b9275f58929596ceb00d14d90e3e16cd6"
  },
  "kernelspec": {
   "display_name": "Python 3.8.2 64-bit",
   "name": "python3"
  },
  "language_info": {
   "name": "python",
   "version": ""
  }
 },
 "nbformat": 4,
 "nbformat_minor": 2
}